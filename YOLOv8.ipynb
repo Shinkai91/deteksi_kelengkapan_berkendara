{
 "cells": [
  {
   "cell_type": "code",
   "execution_count": null,
   "metadata": {
    "id": "rxpOKVAXDOWx"
   },
   "outputs": [],
   "source": [
    "!pip install ultralytics\n",
    "!pip install roboflow\n",
    "from ultralytics import YOLO\n",
    "from pickle import TRUE\n",
    "from roboflow import Roboflow\n",
    "from IPython.display import Image, display\n",
    "import time"
   ]
  },
  {
   "cell_type": "code",
   "execution_count": null,
   "metadata": {
    "id": "BVZjjmwIDw2c"
   },
   "outputs": [],
   "source": [
    "rf = Roboflow(api_key=\"Y74ydEYVU03zaKpUg9yL\")\n",
    "project = rf.workspace(\"yosia-aser-2io7g\").project(\"driver-equipment-detection-backup\")\n",
    "version = project.version(1)\n",
    "dataset = version.download(\"yolov8\")"
   ]
  },
  {
   "cell_type": "code",
   "execution_count": null,
   "metadata": {
    "id": "RgNJ3LLuDyic"
   },
   "outputs": [],
   "source": [
    "# Buat model baru atau gunakan model pre-trained YOLOv8\n",
    "model = YOLO(\"yolov8s.pt\")  # YOLOv8n is the smallest model, you can use yolov8s.pt, yolov8m.pt, etc.\n",
    "\n",
    "# Train model on custom dataset\n",
    "model.train(data=\"/content/Driver-Equipment-Detection-(Backup)-1/data.yaml\", epochs=30, imgsz=640, plots=True)"
   ]
  },
  {
   "cell_type": "code",
   "execution_count": null,
   "metadata": {
    "id": "UofCsZG98Mn0"
   },
   "outputs": [],
   "source": [
    "# Load the YOLO model\n",
    "model = YOLO(\"/content/runs/detect/train/weights/best.pt\")  # Path to the best trained model\n",
    "\n",
    "# Export the model to ONNX format\n",
    "onnx_model_path = \"/content/runs/detect/train/weights/best.onnx\"\n",
    "model.export(format=\"onnx\", save=True)\n",
    "\n",
    "print(f\"Model saved as ONNX at: {onnx_model_path}\")"
   ]
  },
  {
   "cell_type": "code",
   "execution_count": null,
   "metadata": {
    "id": "AmiWp4DPEFt5"
   },
   "outputs": [],
   "source": [
    "# Load the YOLO model\n",
    "model = YOLO(\"/content/runs/detect/train/weights/best.pt\")\n",
    "\n",
    "# Run inference on a video and save the results\n",
    "results = model(\"/content/IMG_20240821_154625_4.jpg\", save=True)\n",
    "\n",
    "# Initialize variables for total confidence score and count of detections\n",
    "total_confidence = 0\n",
    "total_detections = 0\n",
    "\n",
    "# Iterate through each frame's predictions\n",
    "for frame in results:\n",
    "    for detection in frame.boxes:\n",
    "        total_confidence += detection.conf  # Sum up confidence scores for each detection\n",
    "        total_detections += 1  # Count the number of detections\n",
    "\n",
    "# Calculate average confidence score (as a proxy for accuracy)\n",
    "if total_detections > 0:\n",
    "    avg_confidence = total_confidence / total_detections\n",
    "else:\n",
    "    avg_confidence = 0\n",
    "\n",
    "# Convert the tensor to a Python float before formatting\n",
    "avg_confidence_value = avg_confidence.item()\n",
    "\n",
    "# Print the average confidence score\n",
    "print(f\"Average confidence score over video: {avg_confidence_value:.4f}\")"
   ]
  },
  {
   "cell_type": "code",
   "execution_count": null,
   "metadata": {
    "id": "-NqGNi-gO1xT"
   },
   "outputs": [],
   "source": [
    "# Pindah ke direktori hasil YOLO\n",
    "%cd /content/runs/detect/predict4\n",
    "\n",
    "# Tampilkan gambar hasil prediksi\n",
    "display(Image(filename=\"IMG_20240821_154625_4.jpg\", height=600))  # Sesuaikan nama file jika perlu"
   ]
  },
  {
   "cell_type": "code",
   "execution_count": null,
   "metadata": {
    "id": "WUQspAgSLeu6"
   },
   "outputs": [],
   "source": [
    "# Load the YOLO model\n",
    "model = YOLO(\"/content/runs/detect/train/weights/best.pt\")\n",
    "\n",
    "# Initialize a list to store processing times for each frame\n",
    "processing_times = []\n",
    "\n",
    "# Perform prediction on the video\n",
    "results = model.predict(source=\"/content/IMG_20240821_154625_4.jpg\", save=True)\n",
    "\n",
    "# Iterate through each frame's results\n",
    "for result in results:\n",
    "    start_time = time.time()  # Start time for processing the current frame\n",
    "\n",
    "    # (Assuming results contain frames in order)\n",
    "    for box in result.boxes:\n",
    "        # Perform any additional processing if needed here\n",
    "        pass\n",
    "\n",
    "    end_time = time.time()  # End time after processing the current frame\n",
    "    frame_time = end_time - start_time  # Calculate time taken for this frame\n",
    "    processing_times.append(frame_time)  # Append the frame time to the list\n",
    "\n",
    "# Calculate the average processing time\n",
    "if processing_times:\n",
    "    avg_processing_time = sum(processing_times) / len(processing_times)\n",
    "else:\n",
    "    avg_processing_time = 0\n",
    "\n",
    "# Print the average processing time in milliseconds\n",
    "print(f\"Average processing time per frame: {avg_processing_time * 1000:.4f} ms\")"
   ]
  },
  {
   "cell_type": "code",
   "execution_count": null,
   "metadata": {
    "id": "G7hQLyESQev2"
   },
   "outputs": [],
   "source": [
    "# Pindah ke direktori hasil YOLO\n",
    "%cd /content/runs/detect/predict2\n",
    "\n",
    "# Tampilkan gambar hasil prediksi\n",
    "display(Image(filename=\"IMG_20240821_154625_4.jpg\", height=600))  # Sesuaikan nama file jika perlu"
   ]
  }
 ],
 "metadata": {
  "accelerator": "GPU",
  "colab": {
   "gpuType": "T4",
   "private_outputs": true,
   "provenance": []
  },
  "kernelspec": {
   "display_name": "Python 3",
   "name": "python3"
  },
  "language_info": {
   "name": "python"
  }
 },
 "nbformat": 4,
 "nbformat_minor": 0
}
