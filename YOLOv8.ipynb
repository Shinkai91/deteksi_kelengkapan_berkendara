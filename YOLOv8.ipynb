{
  "nbformat": 4,
  "nbformat_minor": 0,
  "metadata": {
    "colab": {
      "private_outputs": true,
      "provenance": [],
      "gpuType": "T4"
    },
    "kernelspec": {
      "name": "python3",
      "display_name": "Python 3"
    },
    "language_info": {
      "name": "python"
    },
    "accelerator": "GPU"
  },
  "cells": [
    {
      "cell_type": "code",
      "execution_count": null,
      "metadata": {
        "id": "rxpOKVAXDOWx"
      },
      "outputs": [],
      "source": [
        "# Install YOLOv8\n",
        "!pip install ultralytics\n",
        "from ultralytics import YOLO"
      ]
    },
    {
      "cell_type": "code",
      "source": [
        "!pip install roboflow\n",
        "\n",
        "from roboflow import Roboflow\n",
        "rf = Roboflow(api_key=\"Y74ydEYVU03zaKpUg9yL\")\n",
        "project = rf.workspace(\"yosia-aser-2io7g\").project(\"driver-equipment-detection-backup\")\n",
        "version = project.version(1)\n",
        "dataset = version.download(\"yolov8\")"
      ],
      "metadata": {
        "id": "BVZjjmwIDw2c"
      },
      "execution_count": null,
      "outputs": []
    },
    {
      "cell_type": "code",
      "source": [
        "# Buat model baru atau gunakan model pre-trained YOLOv8\n",
        "model = YOLO(\"yolov8s.pt\")  # YOLOv8n is the smallest model, you can use yolov8s.pt, yolov8m.pt, etc.\n",
        "\n",
        "# Train model on custom dataset\n",
        "model.train(data=\"/content/Driver-Equipment-Detection-(Backup)-1/data.yaml\", epochs=100, imgsz=640, plots=True)"
      ],
      "metadata": {
        "id": "RgNJ3LLuDyic"
      },
      "execution_count": null,
      "outputs": []
    },
    {
      "cell_type": "code",
      "source": [
        "# Load the YOLO model\n",
        "model = YOLO(\"/content/runs/detect/train/weights/best.pt\")  # Path to the best trained model\n",
        "\n",
        "# Export the model to ONNX format\n",
        "onnx_model_path = \"/content/runs/detect/train/weights/best.onnx\"\n",
        "model.export(format=\"onnx\", save=True)\n",
        "\n",
        "print(f\"Model saved as ONNX at: {onnx_model_path}\")"
      ],
      "metadata": {
        "id": "UofCsZG98Mn0"
      },
      "execution_count": null,
      "outputs": []
    },
    {
      "cell_type": "code",
      "source": [
        "from pickle import TRUE\n",
        "from ultralytics import YOLO\n",
        "\n",
        "# Load the YOLO model\n",
        "model = YOLO(\"/content/runs/detect/train/weights/best.pt\")\n",
        "\n",
        "# Run inference on a video and save the results\n",
        "results = model(\"/content/IMG_20240821_154625_4.jpg\", save=True)\n",
        "\n",
        "# Initialize variables for total confidence score and count of detections\n",
        "total_confidence = 0\n",
        "total_detections = 0\n",
        "\n",
        "# Iterate through each frame's predictions\n",
        "for frame in results:\n",
        "    for detection in frame.boxes:\n",
        "        total_confidence += detection.conf  # Sum up confidence scores for each detection\n",
        "        total_detections += 1  # Count the number of detections\n",
        "\n",
        "# Calculate average confidence score (as a proxy for accuracy)\n",
        "if total_detections > 0:\n",
        "    avg_confidence = total_confidence / total_detections\n",
        "else:\n",
        "    avg_confidence = 0\n",
        "\n",
        "# Convert the tensor to a Python float before formatting\n",
        "avg_confidence_value = avg_confidence.item()\n",
        "\n",
        "# Print the average confidence score\n",
        "print(f\"Average confidence score over video: {avg_confidence_value:.4f}\")"
      ],
      "metadata": {
        "id": "AmiWp4DPEFt5"
      },
      "execution_count": null,
      "outputs": []
    },
    {
      "cell_type": "code",
      "source": [
        "from IPython.display import Image, display\n",
        "\n",
        "# Pindah ke direktori hasil YOLO\n",
        "%cd /content/runs/detect/predict4\n",
        "\n",
        "# Tampilkan gambar hasil prediksi\n",
        "display(Image(filename=\"IMG_20240821_154625_4.jpg\", height=600))  # Sesuaikan nama file jika perlu"
      ],
      "metadata": {
        "id": "-NqGNi-gO1xT"
      },
      "execution_count": null,
      "outputs": []
    },
    {
      "cell_type": "code",
      "source": [
        "from ultralytics import YOLO\n",
        "import time\n",
        "\n",
        "# Load the YOLO model\n",
        "model = YOLO(\"/content/runs/detect/train/weights/best.pt\")\n",
        "\n",
        "# Initialize a list to store processing times for each frame\n",
        "processing_times = []\n",
        "\n",
        "# Perform prediction on the video\n",
        "results = model.predict(source=\"/content/IMG_20240821_154625_4.jpg\", save=True)\n",
        "\n",
        "# Iterate through each frame's results\n",
        "for result in results:\n",
        "    start_time = time.time()  # Start time for processing the current frame\n",
        "\n",
        "    # (Assuming results contain frames in order)\n",
        "    for box in result.boxes:\n",
        "        # Perform any additional processing if needed here\n",
        "        pass\n",
        "\n",
        "    end_time = time.time()  # End time after processing the current frame\n",
        "    frame_time = end_time - start_time  # Calculate time taken for this frame\n",
        "    processing_times.append(frame_time)  # Append the frame time to the list\n",
        "\n",
        "# Calculate the average processing time\n",
        "if processing_times:\n",
        "    avg_processing_time = sum(processing_times) / len(processing_times)\n",
        "else:\n",
        "    avg_processing_time = 0\n",
        "\n",
        "# Print the average processing time in milliseconds\n",
        "print(f\"Average processing time per frame: {avg_processing_time * 1000:.4f} ms\")"
      ],
      "metadata": {
        "id": "WUQspAgSLeu6"
      },
      "execution_count": null,
      "outputs": []
    },
    {
      "cell_type": "code",
      "source": [
        "from IPython.display import Image, display\n",
        "\n",
        "# Pindah ke direktori hasil YOLO\n",
        "%cd /content/runs/detect/predict2\n",
        "\n",
        "# Tampilkan gambar hasil prediksi\n",
        "display(Image(filename=\"IMG_20240821_154625_4.jpg\", height=600))  # Sesuaikan nama file jika perlu"
      ],
      "metadata": {
        "id": "G7hQLyESQev2"
      },
      "execution_count": null,
      "outputs": []
    }
  ]
}